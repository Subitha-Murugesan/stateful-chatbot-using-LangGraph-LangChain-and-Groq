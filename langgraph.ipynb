{
 "cells": [
  {
   "cell_type": "code",
   "execution_count": 1,
   "id": "0adc8261",
   "metadata": {},
   "outputs": [
    {
     "name": "stdout",
     "output_type": "stream",
     "text": [
      "Collecting langgraph\n",
      "  Downloading langgraph-0.4.7-py3-none-any.whl.metadata (6.8 kB)\n",
      "Requirement already satisfied: langsmith in /opt/anaconda3/envs/LLM_Projects/lib/python3.9/site-packages (0.3.42)\n",
      "Requirement already satisfied: langchain-core>=0.1 in /opt/anaconda3/envs/LLM_Projects/lib/python3.9/site-packages (from langgraph) (0.3.61)\n",
      "Collecting langgraph-checkpoint>=2.0.26 (from langgraph)\n",
      "  Downloading langgraph_checkpoint-2.0.26-py3-none-any.whl.metadata (4.6 kB)\n",
      "Collecting langgraph-prebuilt>=0.2.0 (from langgraph)\n",
      "  Downloading langgraph_prebuilt-0.2.1-py3-none-any.whl.metadata (4.5 kB)\n",
      "Collecting langgraph-sdk>=0.1.42 (from langgraph)\n",
      "  Downloading langgraph_sdk-0.1.70-py3-none-any.whl.metadata (1.5 kB)\n",
      "Requirement already satisfied: pydantic>=2.7.4 in /opt/anaconda3/envs/LLM_Projects/lib/python3.9/site-packages (from langgraph) (2.9.2)\n",
      "Requirement already satisfied: xxhash>=3.5.0 in /opt/anaconda3/envs/LLM_Projects/lib/python3.9/site-packages (from langgraph) (3.5.0)\n",
      "Requirement already satisfied: httpx<1,>=0.23.0 in /opt/anaconda3/envs/LLM_Projects/lib/python3.9/site-packages (from langsmith) (0.28.1)\n",
      "Requirement already satisfied: orjson<4.0.0,>=3.9.14 in /opt/anaconda3/envs/LLM_Projects/lib/python3.9/site-packages (from langsmith) (3.10.14)\n",
      "Requirement already satisfied: packaging>=23.2 in /opt/anaconda3/envs/LLM_Projects/lib/python3.9/site-packages (from langsmith) (23.2)\n",
      "Requirement already satisfied: requests<3,>=2 in /opt/anaconda3/envs/LLM_Projects/lib/python3.9/site-packages (from langsmith) (2.32.3)\n",
      "Requirement already satisfied: requests-toolbelt<2.0.0,>=1.0.0 in /opt/anaconda3/envs/LLM_Projects/lib/python3.9/site-packages (from langsmith) (1.0.0)\n",
      "Requirement already satisfied: zstandard<0.24.0,>=0.23.0 in /opt/anaconda3/envs/LLM_Projects/lib/python3.9/site-packages (from langsmith) (0.23.0)\n",
      "Requirement already satisfied: anyio in /opt/anaconda3/envs/LLM_Projects/lib/python3.9/site-packages (from httpx<1,>=0.23.0->langsmith) (4.8.0)\n",
      "Requirement already satisfied: certifi in /opt/anaconda3/envs/LLM_Projects/lib/python3.9/site-packages (from httpx<1,>=0.23.0->langsmith) (2024.12.14)\n",
      "Requirement already satisfied: httpcore==1.* in /opt/anaconda3/envs/LLM_Projects/lib/python3.9/site-packages (from httpx<1,>=0.23.0->langsmith) (1.0.7)\n",
      "Requirement already satisfied: idna in /opt/anaconda3/envs/LLM_Projects/lib/python3.9/site-packages (from httpx<1,>=0.23.0->langsmith) (3.10)\n",
      "Requirement already satisfied: h11<0.15,>=0.13 in /opt/anaconda3/envs/LLM_Projects/lib/python3.9/site-packages (from httpcore==1.*->httpx<1,>=0.23.0->langsmith) (0.14.0)\n",
      "Requirement already satisfied: tenacity!=8.4.0,<10.0.0,>=8.1.0 in /opt/anaconda3/envs/LLM_Projects/lib/python3.9/site-packages (from langchain-core>=0.1->langgraph) (8.5.0)\n",
      "Requirement already satisfied: jsonpatch<2.0,>=1.33 in /opt/anaconda3/envs/LLM_Projects/lib/python3.9/site-packages (from langchain-core>=0.1->langgraph) (1.33)\n",
      "Requirement already satisfied: PyYAML>=5.3 in /opt/anaconda3/envs/LLM_Projects/lib/python3.9/site-packages (from langchain-core>=0.1->langgraph) (6.0.2)\n",
      "Requirement already satisfied: typing-extensions>=4.7 in /opt/anaconda3/envs/LLM_Projects/lib/python3.9/site-packages (from langchain-core>=0.1->langgraph) (4.12.2)\n",
      "Collecting ormsgpack<2.0.0,>=1.8.0 (from langgraph-checkpoint>=2.0.26->langgraph)\n",
      "  Downloading ormsgpack-1.9.1-cp39-cp39-macosx_10_12_x86_64.macosx_11_0_arm64.macosx_10_12_universal2.whl.metadata (43 kB)\n",
      "Requirement already satisfied: annotated-types>=0.6.0 in /opt/anaconda3/envs/LLM_Projects/lib/python3.9/site-packages (from pydantic>=2.7.4->langgraph) (0.7.0)\n",
      "Requirement already satisfied: pydantic-core==2.23.4 in /opt/anaconda3/envs/LLM_Projects/lib/python3.9/site-packages (from pydantic>=2.7.4->langgraph) (2.23.4)\n",
      "Requirement already satisfied: charset-normalizer<4,>=2 in /opt/anaconda3/envs/LLM_Projects/lib/python3.9/site-packages (from requests<3,>=2->langsmith) (3.4.1)\n",
      "Requirement already satisfied: urllib3<3,>=1.21.1 in /opt/anaconda3/envs/LLM_Projects/lib/python3.9/site-packages (from requests<3,>=2->langsmith) (2.3.0)\n",
      "Requirement already satisfied: jsonpointer>=1.9 in /opt/anaconda3/envs/LLM_Projects/lib/python3.9/site-packages (from jsonpatch<2.0,>=1.33->langchain-core>=0.1->langgraph) (3.0.0)\n",
      "Requirement already satisfied: exceptiongroup>=1.0.2 in /opt/anaconda3/envs/LLM_Projects/lib/python3.9/site-packages (from anyio->httpx<1,>=0.23.0->langsmith) (1.2.2)\n",
      "Requirement already satisfied: sniffio>=1.1 in /opt/anaconda3/envs/LLM_Projects/lib/python3.9/site-packages (from anyio->httpx<1,>=0.23.0->langsmith) (1.3.1)\n",
      "Downloading langgraph-0.4.7-py3-none-any.whl (154 kB)\n",
      "Downloading langgraph_checkpoint-2.0.26-py3-none-any.whl (44 kB)\n",
      "Downloading langgraph_prebuilt-0.2.1-py3-none-any.whl (23 kB)\n",
      "Downloading langgraph_sdk-0.1.70-py3-none-any.whl (49 kB)\n",
      "Downloading ormsgpack-1.9.1-cp39-cp39-macosx_10_12_x86_64.macosx_11_0_arm64.macosx_10_12_universal2.whl (382 kB)\n",
      "Installing collected packages: ormsgpack, langgraph-sdk, langgraph-checkpoint, langgraph-prebuilt, langgraph\n",
      "Successfully installed langgraph-0.4.7 langgraph-checkpoint-2.0.26 langgraph-prebuilt-0.2.1 langgraph-sdk-0.1.70 ormsgpack-1.9.1\n"
     ]
    }
   ],
   "source": [
    "!pip install langgraph langsmith"
   ]
  },
  {
   "cell_type": "code",
   "execution_count": 2,
   "id": "5a0eaa6f",
   "metadata": {},
   "outputs": [
    {
     "name": "stdout",
     "output_type": "stream",
     "text": [
      "Requirement already satisfied: langchain in /opt/anaconda3/envs/LLM_Projects/lib/python3.9/site-packages (0.3.25)\n",
      "Requirement already satisfied: langchain_groq in /opt/anaconda3/envs/LLM_Projects/lib/python3.9/site-packages (0.3.2)\n",
      "Requirement already satisfied: langchain_community in /opt/anaconda3/envs/LLM_Projects/lib/python3.9/site-packages (0.3.24)\n",
      "Requirement already satisfied: langchain-core<1.0.0,>=0.3.58 in /opt/anaconda3/envs/LLM_Projects/lib/python3.9/site-packages (from langchain) (0.3.61)\n",
      "Requirement already satisfied: langchain-text-splitters<1.0.0,>=0.3.8 in /opt/anaconda3/envs/LLM_Projects/lib/python3.9/site-packages (from langchain) (0.3.8)\n",
      "Requirement already satisfied: langsmith<0.4,>=0.1.17 in /opt/anaconda3/envs/LLM_Projects/lib/python3.9/site-packages (from langchain) (0.3.42)\n",
      "Requirement already satisfied: pydantic<3.0.0,>=2.7.4 in /opt/anaconda3/envs/LLM_Projects/lib/python3.9/site-packages (from langchain) (2.9.2)\n",
      "Requirement already satisfied: SQLAlchemy<3,>=1.4 in /opt/anaconda3/envs/LLM_Projects/lib/python3.9/site-packages (from langchain) (2.0.37)\n",
      "Requirement already satisfied: requests<3,>=2 in /opt/anaconda3/envs/LLM_Projects/lib/python3.9/site-packages (from langchain) (2.32.3)\n",
      "Requirement already satisfied: PyYAML>=5.3 in /opt/anaconda3/envs/LLM_Projects/lib/python3.9/site-packages (from langchain) (6.0.2)\n",
      "Requirement already satisfied: async-timeout<5.0.0,>=4.0.0 in /opt/anaconda3/envs/LLM_Projects/lib/python3.9/site-packages (from langchain) (4.0.3)\n",
      "Requirement already satisfied: groq<1,>=0.4.1 in /opt/anaconda3/envs/LLM_Projects/lib/python3.9/site-packages (from langchain_groq) (0.15.0)\n",
      "Requirement already satisfied: aiohttp<4.0.0,>=3.8.3 in /opt/anaconda3/envs/LLM_Projects/lib/python3.9/site-packages (from langchain_community) (3.11.11)\n",
      "Requirement already satisfied: tenacity!=8.4.0,<10,>=8.1.0 in /opt/anaconda3/envs/LLM_Projects/lib/python3.9/site-packages (from langchain_community) (8.5.0)\n",
      "Requirement already satisfied: dataclasses-json<0.7,>=0.5.7 in /opt/anaconda3/envs/LLM_Projects/lib/python3.9/site-packages (from langchain_community) (0.6.7)\n",
      "Requirement already satisfied: pydantic-settings<3.0.0,>=2.4.0 in /opt/anaconda3/envs/LLM_Projects/lib/python3.9/site-packages (from langchain_community) (2.7.1)\n",
      "Requirement already satisfied: httpx-sse<1.0.0,>=0.4.0 in /opt/anaconda3/envs/LLM_Projects/lib/python3.9/site-packages (from langchain_community) (0.4.0)\n",
      "Requirement already satisfied: numpy>=1.26.2 in /opt/anaconda3/envs/LLM_Projects/lib/python3.9/site-packages (from langchain_community) (1.26.4)\n",
      "Requirement already satisfied: aiohappyeyeballs>=2.3.0 in /opt/anaconda3/envs/LLM_Projects/lib/python3.9/site-packages (from aiohttp<4.0.0,>=3.8.3->langchain_community) (2.4.4)\n",
      "Requirement already satisfied: aiosignal>=1.1.2 in /opt/anaconda3/envs/LLM_Projects/lib/python3.9/site-packages (from aiohttp<4.0.0,>=3.8.3->langchain_community) (1.3.2)\n",
      "Requirement already satisfied: attrs>=17.3.0 in /opt/anaconda3/envs/LLM_Projects/lib/python3.9/site-packages (from aiohttp<4.0.0,>=3.8.3->langchain_community) (24.3.0)\n",
      "Requirement already satisfied: frozenlist>=1.1.1 in /opt/anaconda3/envs/LLM_Projects/lib/python3.9/site-packages (from aiohttp<4.0.0,>=3.8.3->langchain_community) (1.5.0)\n",
      "Requirement already satisfied: multidict<7.0,>=4.5 in /opt/anaconda3/envs/LLM_Projects/lib/python3.9/site-packages (from aiohttp<4.0.0,>=3.8.3->langchain_community) (6.1.0)\n",
      "Requirement already satisfied: propcache>=0.2.0 in /opt/anaconda3/envs/LLM_Projects/lib/python3.9/site-packages (from aiohttp<4.0.0,>=3.8.3->langchain_community) (0.2.1)\n",
      "Requirement already satisfied: yarl<2.0,>=1.17.0 in /opt/anaconda3/envs/LLM_Projects/lib/python3.9/site-packages (from aiohttp<4.0.0,>=3.8.3->langchain_community) (1.18.3)\n",
      "Requirement already satisfied: marshmallow<4.0.0,>=3.18.0 in /opt/anaconda3/envs/LLM_Projects/lib/python3.9/site-packages (from dataclasses-json<0.7,>=0.5.7->langchain_community) (3.25.0)\n",
      "Requirement already satisfied: typing-inspect<1,>=0.4.0 in /opt/anaconda3/envs/LLM_Projects/lib/python3.9/site-packages (from dataclasses-json<0.7,>=0.5.7->langchain_community) (0.9.0)\n",
      "Requirement already satisfied: anyio<5,>=3.5.0 in /opt/anaconda3/envs/LLM_Projects/lib/python3.9/site-packages (from groq<1,>=0.4.1->langchain_groq) (4.8.0)\n",
      "Requirement already satisfied: distro<2,>=1.7.0 in /opt/anaconda3/envs/LLM_Projects/lib/python3.9/site-packages (from groq<1,>=0.4.1->langchain_groq) (1.9.0)\n",
      "Requirement already satisfied: httpx<1,>=0.23.0 in /opt/anaconda3/envs/LLM_Projects/lib/python3.9/site-packages (from groq<1,>=0.4.1->langchain_groq) (0.28.1)\n",
      "Requirement already satisfied: sniffio in /opt/anaconda3/envs/LLM_Projects/lib/python3.9/site-packages (from groq<1,>=0.4.1->langchain_groq) (1.3.1)\n",
      "Requirement already satisfied: typing-extensions<5,>=4.10 in /opt/anaconda3/envs/LLM_Projects/lib/python3.9/site-packages (from groq<1,>=0.4.1->langchain_groq) (4.12.2)\n",
      "Requirement already satisfied: jsonpatch<2.0,>=1.33 in /opt/anaconda3/envs/LLM_Projects/lib/python3.9/site-packages (from langchain-core<1.0.0,>=0.3.58->langchain) (1.33)\n",
      "Requirement already satisfied: packaging<25,>=23.2 in /opt/anaconda3/envs/LLM_Projects/lib/python3.9/site-packages (from langchain-core<1.0.0,>=0.3.58->langchain) (23.2)\n",
      "Requirement already satisfied: orjson<4.0.0,>=3.9.14 in /opt/anaconda3/envs/LLM_Projects/lib/python3.9/site-packages (from langsmith<0.4,>=0.1.17->langchain) (3.10.14)\n",
      "Requirement already satisfied: requests-toolbelt<2.0.0,>=1.0.0 in /opt/anaconda3/envs/LLM_Projects/lib/python3.9/site-packages (from langsmith<0.4,>=0.1.17->langchain) (1.0.0)\n",
      "Requirement already satisfied: zstandard<0.24.0,>=0.23.0 in /opt/anaconda3/envs/LLM_Projects/lib/python3.9/site-packages (from langsmith<0.4,>=0.1.17->langchain) (0.23.0)\n",
      "Requirement already satisfied: annotated-types>=0.6.0 in /opt/anaconda3/envs/LLM_Projects/lib/python3.9/site-packages (from pydantic<3.0.0,>=2.7.4->langchain) (0.7.0)\n",
      "Requirement already satisfied: pydantic-core==2.23.4 in /opt/anaconda3/envs/LLM_Projects/lib/python3.9/site-packages (from pydantic<3.0.0,>=2.7.4->langchain) (2.23.4)\n",
      "Requirement already satisfied: python-dotenv>=0.21.0 in /opt/anaconda3/envs/LLM_Projects/lib/python3.9/site-packages (from pydantic-settings<3.0.0,>=2.4.0->langchain_community) (1.0.1)\n",
      "Requirement already satisfied: charset-normalizer<4,>=2 in /opt/anaconda3/envs/LLM_Projects/lib/python3.9/site-packages (from requests<3,>=2->langchain) (3.4.1)\n",
      "Requirement already satisfied: idna<4,>=2.5 in /opt/anaconda3/envs/LLM_Projects/lib/python3.9/site-packages (from requests<3,>=2->langchain) (3.10)\n",
      "Requirement already satisfied: urllib3<3,>=1.21.1 in /opt/anaconda3/envs/LLM_Projects/lib/python3.9/site-packages (from requests<3,>=2->langchain) (2.3.0)\n",
      "Requirement already satisfied: certifi>=2017.4.17 in /opt/anaconda3/envs/LLM_Projects/lib/python3.9/site-packages (from requests<3,>=2->langchain) (2024.12.14)\n",
      "Requirement already satisfied: exceptiongroup>=1.0.2 in /opt/anaconda3/envs/LLM_Projects/lib/python3.9/site-packages (from anyio<5,>=3.5.0->groq<1,>=0.4.1->langchain_groq) (1.2.2)\n",
      "Requirement already satisfied: httpcore==1.* in /opt/anaconda3/envs/LLM_Projects/lib/python3.9/site-packages (from httpx<1,>=0.23.0->groq<1,>=0.4.1->langchain_groq) (1.0.7)\n",
      "Requirement already satisfied: h11<0.15,>=0.13 in /opt/anaconda3/envs/LLM_Projects/lib/python3.9/site-packages (from httpcore==1.*->httpx<1,>=0.23.0->groq<1,>=0.4.1->langchain_groq) (0.14.0)\n",
      "Requirement already satisfied: jsonpointer>=1.9 in /opt/anaconda3/envs/LLM_Projects/lib/python3.9/site-packages (from jsonpatch<2.0,>=1.33->langchain-core<1.0.0,>=0.3.58->langchain) (3.0.0)\n",
      "Requirement already satisfied: mypy-extensions>=0.3.0 in /opt/anaconda3/envs/LLM_Projects/lib/python3.9/site-packages (from typing-inspect<1,>=0.4.0->dataclasses-json<0.7,>=0.5.7->langchain_community) (1.0.0)\n"
     ]
    }
   ],
   "source": [
    "!pip install langchain langchain_groq langchain_community"
   ]
  },
  {
   "cell_type": "code",
   "execution_count": null,
   "id": "d39c086b",
   "metadata": {},
   "outputs": [],
   "source": [
    "import os\n",
    "from dotenv import load_dotenv\n",
    "load_dotenv()\n",
    "groq_api_key = os.environ.get(\"GROQ_API_KEY\")\n",
    "langsmith_token = os.environ.get(\"LANGSMITH_API_KEY\") #tracing the activities\n",
    "os.environ[\"LANGCHAIN_TRACING_V2\"] = \"true\"\n",
    "os.environ[\"LANGCHAIN_PROJECT\"]=\"CourseLanggraph\"\n"
   ]
  },
  {
   "cell_type": "code",
   "execution_count": 12,
   "id": "c96636c4",
   "metadata": {},
   "outputs": [
    {
     "data": {
      "text/plain": [
       "ChatGroq(client=<groq.resources.chat.completions.Completions object at 0x11617bdf0>, async_client=<groq.resources.chat.completions.AsyncCompletions object at 0x1161757f0>, model_name='Gemma2-9b-It', model_kwargs={}, groq_api_key=SecretStr('**********'))"
      ]
     },
     "execution_count": 12,
     "metadata": {},
     "output_type": "execute_result"
    }
   ],
   "source": [
    "from langchain_groq import ChatGroq\n",
    "\n",
    "llm=ChatGroq(groq_api_key=groq_api_key,model_name=\"Gemma2-9b-It\")\n",
    "llm\n"
   ]
  },
  {
   "cell_type": "code",
   "execution_count": 13,
   "id": "f3f59a79",
   "metadata": {},
   "outputs": [],
   "source": [
    "###LANGGRAPH \n",
    "\n",
    "from typing import Annotated\n",
    "from typing_extensions import TypedDict\n",
    "from langgraph.graph import  StateGraph,START,END #statemanagement, start node and end node\n",
    "from langgraph.graph.message import add_messages # one of the function to add messages, so state of the agent can be updated\n",
    "\n"
   ]
  },
  {
   "cell_type": "code",
   "execution_count": 14,
   "id": "a3354472",
   "metadata": {},
   "outputs": [],
   "source": [
    "class State(TypedDict): #inherited from TypedDict, which is a way to define the structure of the state\n",
    "    messages:Annotated[list, add_messages]  #list of messages, which is a list , add messages is a function that will be used to add messages to the list\n",
    "    #on every add, the state will be updated with the new message\n",
    "\n",
    "graph_builder=StateGraph(State)"
   ]
  },
  {
   "cell_type": "code",
   "execution_count": 15,
   "id": "4e297ec2",
   "metadata": {},
   "outputs": [
    {
     "data": {
      "text/plain": [
       "<langgraph.graph.state.StateGraph at 0x1166eeee0>"
      ]
     },
     "execution_count": 15,
     "metadata": {},
     "output_type": "execute_result"
    }
   ],
   "source": [
    "graph_builder"
   ]
  },
  {
   "cell_type": "code",
   "execution_count": 16,
   "id": "d5159a7c",
   "metadata": {},
   "outputs": [],
   "source": [
    "def chatbot(state:State):\n",
    "    return {\"messages\":llm.invoke(state[\"messages\"])}  #invoke the llm with the messages in the state, and return the messages"
   ]
  },
  {
   "cell_type": "code",
   "execution_count": null,
   "id": "fdfdee8a",
   "metadata": {},
   "outputs": [],
   "source": [
    "graph_builder.add_node(\"chatbot\", chatbot)  #add the chatbot node to the graph, which will be used to process the messages"
   ]
  },
  {
   "cell_type": "code",
   "execution_count": 21,
   "id": "7d50e5ca",
   "metadata": {},
   "outputs": [
    {
     "data": {
      "text/plain": [
       "<langgraph.graph.state.StateGraph at 0x1166eeee0>"
      ]
     },
     "execution_count": 21,
     "metadata": {},
     "output_type": "execute_result"
    }
   ],
   "source": [
    "graph_builder"
   ]
  },
  {
   "cell_type": "code",
   "execution_count": 23,
   "id": "6d2bb1a8",
   "metadata": {},
   "outputs": [
    {
     "data": {
      "text/plain": [
       "<langgraph.graph.state.StateGraph at 0x1166eeee0>"
      ]
     },
     "execution_count": 23,
     "metadata": {},
     "output_type": "execute_result"
    }
   ],
   "source": [
    "graph_builder.add_edge(START, \"chatbot\")  #add an edge from the start node to the chatbot node, which will be used to process the messages\n",
    "graph_builder.add_edge(\"chatbot\", END)  #add an edge from the chatbot node to the end node, which will be used to end the conversation"
   ]
  },
  {
   "cell_type": "code",
   "execution_count": 24,
   "id": "30b4b0ae",
   "metadata": {},
   "outputs": [],
   "source": [
    "graph=graph_builder.compile()  #compile the graph, which will be used to process the messages"
   ]
  },
  {
   "cell_type": "code",
   "execution_count": 25,
   "id": "21514ae7",
   "metadata": {},
   "outputs": [
    {
     "data": {
      "image/png": "[encoded data removed]",
      "text/plain": [
       "<IPython.core.display.Image object>"
      ]
     },
     "metadata": {},
     "output_type": "display_data"
    }
   ],
   "source": [
    "from IPython.display import Image, display\n",
    "try:\n",
    "  display(Image(graph.get_graph().draw_mermaid_png()))\n",
    "except Exception:\n",
    "  pass"
   ]
  },
  {
   "cell_type": "code",
   "execution_count": 27,
   "id": "2c22e50a",
   "metadata": {},
   "outputs": [
    {
     "name": "stdout",
     "output_type": "stream",
     "text": [
      "dict_values([{'messages': AIMessage(content='Hello! 👋 \\n\\nHow can I help you today? 😊\\n', additional_kwargs={}, response_metadata={'token_usage': {'completion_tokens': 16, 'prompt_tokens': 11, 'total_tokens': 27, 'completion_time': 0.029090909, 'prompt_time': 0.001966517, 'queue_time': 0.160350799, 'total_time': 0.031057426}, 'model_name': 'Gemma2-9b-It', 'system_fingerprint': 'fp_10c08bf97d', 'finish_reason': 'stop', 'logprobs': None}, id='run--b4f80508-e7ff-45d6-b001-8372f1e705be-0', usage_metadata={'input_tokens': 11, 'output_tokens': 16, 'total_tokens': 27})}])\n",
      "content='Hello! 👋 \\n\\nHow can I help you today? 😊\\n' additional_kwargs={} response_metadata={'token_usage': {'completion_tokens': 16, 'prompt_tokens': 11, 'total_tokens': 27, 'completion_time': 0.029090909, 'prompt_time': 0.001966517, 'queue_time': 0.160350799, 'total_time': 0.031057426}, 'model_name': 'Gemma2-9b-It', 'system_fingerprint': 'fp_10c08bf97d', 'finish_reason': 'stop', 'logprobs': None} id='run--b4f80508-e7ff-45d6-b001-8372f1e705be-0' usage_metadata={'input_tokens': 11, 'output_tokens': 16, 'total_tokens': 27}\n",
      "bot: Hello! 👋 \n",
      "\n",
      "How can I help you today? 😊\n",
      "\n",
      "dict_values([{'messages': AIMessage(content=\"##  Gen AI: The Creative Powerhouse\\n\\nGen AI stands for **Generative Artificial Intelligence**.  It's a type of AI that focuses on **creating new content**, rather than just analyzing existing data.  \\n\\nThink of it like this:\\n\\n* **Traditional AI** is like a detective, analyzing clues to solve a mystery. \\n* **Gen AI** is like an artist, using its knowledge to create something entirely new.\\n\\n**What can Gen AI do?**\\n\\nGen AI can create a wide variety of content, including:\\n\\n* **Text:**  Stories, poems, articles, code, scripts, dialogue\\n* **Images:**  Photos, paintings, illustrations, designs\\n* **Audio:**  Music, sound effects, voiceovers\\n* **Video:**  Short clips, animations, special effects\\n* **3D Models:**  Objects, characters, environments\\n\\n**How does it work?**\\n\\nGen AI models are trained on massive datasets of existing content.  They learn the patterns and structures within that data, and then use that knowledge to generate new content that follows similar patterns.\\n\\n**Popular Gen AI tools:**\\n\\n* **OpenAI's ChatGPT and DALL-E 2:**  Can generate text and images respectively.\\n* **Google's Bard and Imagen:**  Similar to ChatGPT and DALL-E 2.\\n* **Midjourney:**  A popular tool for creating AI-generated art.\\n\\n**The impact of Gen AI:**\\n\\nGen AI is already having a significant impact on many industries, including:\\n\\n* **Creative industries:**  Writing, art, music, design\\n* **Marketing and advertising:**  Creating engaging content\\n* **Education:**  Personalized learning experiences\\n* **Healthcare:**  Generating synthetic medical data for research\\n\\n**The future of Gen AI:**\\n\\nGen AI is still a rapidly evolving field, but it has the potential to revolutionize many aspects of our lives.  \\n\\n**It's important to note:**\\n\\nWhile Gen AI is incredibly powerful, it's important to use it responsibly.  \\n\\n* **Bias:** Gen AI models can perpetuate existing biases in the data they are trained on.\\n* **Misinformation:** Gen AI can be used to create realistic-looking fake content, which can be harmful.\\n* **Copyright:**  The ownership of AI-generated content is still a complex legal issue.\\n\\n\\nIt's crucial to be aware of these potential downsides and to use Gen AI ethically and responsibly.\\n\", additional_kwargs={}, response_metadata={'token_usage': {'completion_tokens': 514, 'prompt_tokens': 13, 'total_tokens': 527, 'completion_time': 0.934545455, 'prompt_time': 0.002027027, 'queue_time': 0.15941892100000002, 'total_time': 0.936572482}, 'model_name': 'Gemma2-9b-It', 'system_fingerprint': 'fp_10c08bf97d', 'finish_reason': 'stop', 'logprobs': None}, id='run--f2dd7ef8-cc14-435b-b96b-797b4cd62770-0', usage_metadata={'input_tokens': 13, 'output_tokens': 514, 'total_tokens': 527})}])\n",
      "content=\"##  Gen AI: The Creative Powerhouse\\n\\nGen AI stands for **Generative Artificial Intelligence**.  It's a type of AI that focuses on **creating new content**, rather than just analyzing existing data.  \\n\\nThink of it like this:\\n\\n* **Traditional AI** is like a detective, analyzing clues to solve a mystery. \\n* **Gen AI** is like an artist, using its knowledge to create something entirely new.\\n\\n**What can Gen AI do?**\\n\\nGen AI can create a wide variety of content, including:\\n\\n* **Text:**  Stories, poems, articles, code, scripts, dialogue\\n* **Images:**  Photos, paintings, illustrations, designs\\n* **Audio:**  Music, sound effects, voiceovers\\n* **Video:**  Short clips, animations, special effects\\n* **3D Models:**  Objects, characters, environments\\n\\n**How does it work?**\\n\\nGen AI models are trained on massive datasets of existing content.  They learn the patterns and structures within that data, and then use that knowledge to generate new content that follows similar patterns.\\n\\n**Popular Gen AI tools:**\\n\\n* **OpenAI's ChatGPT and DALL-E 2:**  Can generate text and images respectively.\\n* **Google's Bard and Imagen:**  Similar to ChatGPT and DALL-E 2.\\n* **Midjourney:**  A popular tool for creating AI-generated art.\\n\\n**The impact of Gen AI:**\\n\\nGen AI is already having a significant impact on many industries, including:\\n\\n* **Creative industries:**  Writing, art, music, design\\n* **Marketing and advertising:**  Creating engaging content\\n* **Education:**  Personalized learning experiences\\n* **Healthcare:**  Generating synthetic medical data for research\\n\\n**The future of Gen AI:**\\n\\nGen AI is still a rapidly evolving field, but it has the potential to revolutionize many aspects of our lives.  \\n\\n**It's important to note:**\\n\\nWhile Gen AI is incredibly powerful, it's important to use it responsibly.  \\n\\n* **Bias:** Gen AI models can perpetuate existing biases in the data they are trained on.\\n* **Misinformation:** Gen AI can be used to create realistic-looking fake content, which can be harmful.\\n* **Copyright:**  The ownership of AI-generated content is still a complex legal issue.\\n\\n\\nIt's crucial to be aware of these potential downsides and to use Gen AI ethically and responsibly.\\n\" additional_kwargs={} response_metadata={'token_usage': {'completion_tokens': 514, 'prompt_tokens': 13, 'total_tokens': 527, 'completion_time': 0.934545455, 'prompt_time': 0.002027027, 'queue_time': 0.15941892100000002, 'total_time': 0.936572482}, 'model_name': 'Gemma2-9b-It', 'system_fingerprint': 'fp_10c08bf97d', 'finish_reason': 'stop', 'logprobs': None} id='run--f2dd7ef8-cc14-435b-b96b-797b4cd62770-0' usage_metadata={'input_tokens': 13, 'output_tokens': 514, 'total_tokens': 527}\n",
      "bot: ##  Gen AI: The Creative Powerhouse\n",
      "\n",
      "Gen AI stands for **Generative Artificial Intelligence**.  It's a type of AI that focuses on **creating new content**, rather than just analyzing existing data.  \n",
      "\n",
      "Think of it like this:\n",
      "\n",
      "* **Traditional AI** is like a detective, analyzing clues to solve a mystery. \n",
      "* **Gen AI** is like an artist, using its knowledge to create something entirely new.\n",
      "\n",
      "**What can Gen AI do?**\n",
      "\n",
      "Gen AI can create a wide variety of content, including:\n",
      "\n",
      "* **Text:**  Stories, poems, articles, code, scripts, dialogue\n",
      "* **Images:**  Photos, paintings, illustrations, designs\n",
      "* **Audio:**  Music, sound effects, voiceovers\n",
      "* **Video:**  Short clips, animations, special effects\n",
      "* **3D Models:**  Objects, characters, environments\n",
      "\n",
      "**How does it work?**\n",
      "\n",
      "Gen AI models are trained on massive datasets of existing content.  They learn the patterns and structures within that data, and then use that knowledge to generate new content that follows similar patterns.\n",
      "\n",
      "**Popular Gen AI tools:**\n",
      "\n",
      "* **OpenAI's ChatGPT and DALL-E 2:**  Can generate text and images respectively.\n",
      "* **Google's Bard and Imagen:**  Similar to ChatGPT and DALL-E 2.\n",
      "* **Midjourney:**  A popular tool for creating AI-generated art.\n",
      "\n",
      "**The impact of Gen AI:**\n",
      "\n",
      "Gen AI is already having a significant impact on many industries, including:\n",
      "\n",
      "* **Creative industries:**  Writing, art, music, design\n",
      "* **Marketing and advertising:**  Creating engaging content\n",
      "* **Education:**  Personalized learning experiences\n",
      "* **Healthcare:**  Generating synthetic medical data for research\n",
      "\n",
      "**The future of Gen AI:**\n",
      "\n",
      "Gen AI is still a rapidly evolving field, but it has the potential to revolutionize many aspects of our lives.  \n",
      "\n",
      "**It's important to note:**\n",
      "\n",
      "While Gen AI is incredibly powerful, it's important to use it responsibly.  \n",
      "\n",
      "* **Bias:** Gen AI models can perpetuate existing biases in the data they are trained on.\n",
      "* **Misinformation:** Gen AI can be used to create realistic-looking fake content, which can be harmful.\n",
      "* **Copyright:**  The ownership of AI-generated content is still a complex legal issue.\n",
      "\n",
      "\n",
      "It's crucial to be aware of these potential downsides and to use Gen AI ethically and responsibly.\n",
      "\n",
      "Exiting the chatbot.\n"
     ]
    }
   ],
   "source": [
    "while True:\n",
    "    user_input = input(\"user: \")\n",
    "    if user_input.lower() in [\"exit\", \"quit\"]:\n",
    "        print(\"Exiting the chatbot.\")\n",
    "        break\n",
    "    for event in graph.stream({\"messages\":(\"user\", user_input)}):\n",
    "        print(event.values())\n",
    "        for value in event.values():\n",
    "            print(value[\"messages\"])\n",
    "            print(\"bot:\", value[\"messages\"].content)  #print the last message in the messages list, which is the response from the chatbot"
   ]
  },
  {
   "cell_type": "code",
   "execution_count": null,
   "id": "db807389",
   "metadata": {},
   "outputs": [],
   "source": []
  }
 ],
 "metadata": {
  "kernelspec": {
   "display_name": "LLM_Projects",
   "language": "python",
   "name": "python3"
  },
  "language_info": {
   "codemirror_mode": {
    "name": "ipython",
    "version": 3
   },
   "file_extension": ".py",
   "mimetype": "text/x-python",
   "name": "python",
   "nbconvert_exporter": "python",
   "pygments_lexer": "ipython3",
   "version": "3.9.21"
  }
 },
 "nbformat": 4,
 "nbformat_minor": 5
}
